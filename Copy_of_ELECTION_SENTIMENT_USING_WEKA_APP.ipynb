{
  "nbformat": 4,
  "nbformat_minor": 0,
  "metadata": {
    "colab": {
      "provenance": [],
      "authorship_tag": "ABX9TyNWoyBvEdqHac8b8qMY3Y19",
      "include_colab_link": true
    },
    "kernelspec": {
      "name": "python3",
      "display_name": "Python 3"
    },
    "language_info": {
      "name": "python"
    }
  },
  "cells": [
    {
      "cell_type": "markdown",
      "metadata": {
        "id": "view-in-github",
        "colab_type": "text"
      },
      "source": [
        "<a href=\"https://colab.research.google.com/github/JoehIreri/Data-Warehousing/blob/main/Copy_of_ELECTION_SENTIMENT_USING_WEKA_APP.ipynb\" target=\"_parent\"><img src=\"https://colab.research.google.com/assets/colab-badge.svg\" alt=\"Open In Colab\"/></a>"
      ]
    },
    {
      "cell_type": "code",
      "execution_count": null,
      "metadata": {
        "id": "eKVo89WP2iPq"
      },
      "outputs": [],
      "source": [
        "# Loading Data\n",
        "import pandas as pd\n",
        "biden_data = pd.read_csv('/content/Bidenall2.csv')\n",
        "trump_data = pd.read_csv('/content/Trumpall2.csv')\n",
        "\n",
        "#Cleaning Data\n",
        "import string\n",
        "def clean_text(text):\n",
        "    text = text.lower()\n",
        "    text = text.translate(str.maketrans('', '', string.punctuation))\n",
        "    return text\n",
        "\n",
        "biden_data['text'] = biden_data['text'].apply(clean_text)\n",
        "trump_data['text'] = trump_data['text'].apply(clean_text)\n",
        "\n",
        "#Extracting Features\n",
        "\n",
        "from textblob import TextBlob\n",
        "def get_sentiment(text):\n",
        "    blob = TextBlob(text)\n",
        "    return blob.sentiment.polarity\n",
        "\n",
        "biden_data['sentiment'] = biden_data['text'].apply(get_sentiment)\n",
        "trump_data['sentiment'] = trump_data['text'].apply(get_sentiment)\n",
        "\n",
        "#Saving preprocessed data in a format WEKA will Understand\n",
        "biden_data.to_csv('biden_data_cleaned.csv', index=False)\n",
        "trump_data.to_csv('trump_data_cleaned.csv', index=False)"
      ]
    },
    {
      "cell_type": "code",
      "source": [
        "# Define the ARFF header\n",
        "header = \"\"\"@relation biden_data_cleaned.csv\n",
        "@attribute user text\n",
        "@attribute sentiment numeric\n",
        "@attribute text text\n",
        "@data\n",
        "\"\"\"\n",
        "\n",
        "# Convert DataFrame to ARFF string\n",
        "data = biden_data.to_csv(index=False, header=False)\n",
        "\n",
        "# Save ARFF file\n",
        "with open('biden_data_cleaned.arff', 'w') as f:\n",
        "    f.write(header + data)"
      ],
      "metadata": {
        "id": "SPHdZpxXOUy1"
      },
      "execution_count": null,
      "outputs": []
    },
    {
      "cell_type": "code",
      "source": [
        "# Define the ARFF header\n",
        "header = \"\"\"@relation trump_data_cleaned.csv\n",
        "@attribute user text\n",
        "@attribute sentiment numeric\n",
        "@attribute text text\n",
        "@data\n",
        "\"\"\"\n",
        "\n",
        "# Convert DataFrame to ARFF string\n",
        "data = trump_data.to_csv(index=False, header=False)\n",
        "\n",
        "# Save ARFF file\n",
        "with open('trump_data_cleaned.arff', 'w') as f:\n",
        "    f.write(header + data)"
      ],
      "metadata": {
        "id": "YvxG8UE2c3Wl"
      },
      "execution_count": null,
      "outputs": []
    }
  ]
}